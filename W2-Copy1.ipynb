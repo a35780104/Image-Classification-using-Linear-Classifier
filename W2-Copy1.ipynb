{
 "cells": [
  {
   "cell_type": "code",
   "execution_count": 2,
   "metadata": {},
   "outputs": [
    {
     "name": "stderr",
     "output_type": "stream",
     "text": [
      "C:\\Users\\acer\\.conda\\envs\\opencv-env\\lib\\site-packages\\sklearn\\externals\\joblib\\__init__.py:15: DeprecationWarning: sklearn.externals.joblib is deprecated in 0.21 and will be removed in 0.23. Please import this functionality directly from joblib, which can be installed with: pip install joblib. If this warning is raised when loading pickled models, you may need to re-serialize those models with scikit-learn 0.21+.\n",
      "  warnings.warn(msg, category=DeprecationWarning)\n"
     ]
    }
   ],
   "source": [
    "import numpy as np\n",
    "import cv2\n",
    "from sklearn import svm\n",
    "from sklearn.externals import joblib\n"
   ]
  },
  {
   "cell_type": "code",
   "execution_count": 3,
   "metadata": {},
   "outputs": [],
   "source": [
    "def load_img(f):\n",
    "    f=open(f)\n",
    "    lines=f.readlines()\n",
    "    \n",
    "    imgs,lab=[], []\n",
    "    \n",
    "    for i in range(len(lines)):\n",
    "        \n",
    "        fn,label = lines[i].split(' ')\n",
    "        im1 = cv2.imread(fn)\n",
    "        im1 = cv2.resize(im1,(256,256),interpolation=cv2.INTER_NEAREST)\n",
    "        im1 = cv2.cvtColor(im1, cv2.COLOR_BGR2GRAY)\n",
    "        \n",
    "        imgs.append(im1)\n",
    "        lab.append(int(label))\n",
    "        \n",
    "    return imgs, lab"
   ]
  },
  {
   "cell_type": "code",
   "execution_count": null,
   "metadata": {},
   "outputs": [],
   "source": [
    "train_x,train_y= load_img('train.txt')"
   ]
  },
  {
   "cell_type": "code",
   "execution_count": null,
   "metadata": {},
   "outputs": [],
   "source": [
    "val_x,val_y = load_img('val.txt')"
   ]
  },
  {
   "cell_type": "code",
   "execution_count": 6,
   "metadata": {},
   "outputs": [],
   "source": [
    "def calcSiftFeature(img):\n",
    "    \n",
    "    sift = cv2.xfeatures2d.SURF_create()\n",
    "    \n",
    "    keypoints, features = sift.detectAndCompute(img, None)\n",
    "    return features\n"
   ]
  },
  {
   "cell_type": "code",
   "execution_count": 7,
   "metadata": {},
   "outputs": [],
   "source": [
    "def learnVocabulary(features):\n",
    "    wordCnt = 50\n",
    "    \n",
    "    criteria = (cv2.TERM_CRITERIA_EPS + cv2.TERM_CRITERIA_MAX_ITER, 20, 0.1)\n",
    "    \n",
    "    flags = cv2.KMEANS_RANDOM_CENTERS\n",
    "    \n",
    "    compactness, labels, centers = cv2.kmeans(features, wordCnt, None,criteria, 20, flags)\n",
    "    return centers"
   ]
  },
  {
   "cell_type": "code",
   "execution_count": 8,
   "metadata": {},
   "outputs": [],
   "source": [
    "def calcFeatVec(features, centers):\n",
    "    featVec = np.zeros((1, 50))\n",
    "    for i in range(0, features.shape[0]):\n",
    "        \n",
    "        fi = features[i]\n",
    "        diffMat = np.tile(fi, (50, 1)) - centers\n",
    "        \n",
    "        sqSum = (diffMat**2).sum(axis=1)\n",
    "        dist = sqSum**0.5\n",
    "        \n",
    "        sortedIndices = dist.argsort()\n",
    "       \n",
    "        idx = sortedIndices[0]\n",
    "        \n",
    "        featVec[0][idx] += 1\n",
    "    return featVec"
   ]
  },
  {
   "cell_type": "code",
   "execution_count": 9,
   "metadata": {},
   "outputs": [],
   "source": [
    "def build_center(train_x):\n",
    "    features = np.float32([]).reshape(0, 64)\n",
    "    for im in range(len(train_x)):\n",
    "        print (im)\n",
    "        \n",
    "        img_f = calcSiftFeature(train_x[im])\n",
    "        \n",
    "        features = np.append(features, img_f, axis=0)\n",
    "    \n",
    "    centers = learnVocabulary(features)\n",
    "    \n",
    "    filename = \"svm_centers.npy\"\n",
    "    np.save(filename, centers)\n",
    "    print('詞袋之類啥的:',centers.shape)\n"
   ]
  },
  {
   "cell_type": "code",
   "execution_count": null,
   "metadata": {},
   "outputs": [],
   "source": [
    "def cal_vec(train_x):\n",
    "    centers = np.load(\"svm_centers.npy\")\n",
    "    data_vec = np.float32([]).reshape(0, 50)\n",
    "    labels = np.float32([])\n",
    "    \n",
    "    for im in range(len(train_x)):\n",
    "        \n",
    "        \n",
    "        img_f = calcSiftFeature(train_x[im])\n",
    "        img_vec = calcFeatVec(img_f, centers)\n",
    "        data_vec = np.append(data_vec,img_vec,axis=0)\n",
    "        labels = np.append(labels,im)\n",
    "    print('data_vec:',data_vec.shape)\n",
    "    print('image features vector done!')\n",
    "    return data_vec,labels"
   ]
  },
  {
   "cell_type": "code",
   "execution_count": null,
   "metadata": {},
   "outputs": [],
   "source": [
    "def SVM_Train(train_x,train_y):\n",
    "    \n",
    "    clf = svm.SVC(decision_function_shape='ovo')\n",
    "    \n",
    "    clf.fit(train_x,train_y)\n",
    "    joblib.dump(clf, \"svm_model.m\")"
   ]
  },
  {
   "cell_type": "code",
   "execution_count": null,
   "metadata": {},
   "outputs": [],
   "source": [
    "def SVM_Test(val_x,val_y):\n",
    "    \n",
    "    clf = joblib.load(\"svm_model.m\")\n",
    "    \n",
    "    res = clf.predict(val_x)\n",
    "    num_test = val_x.shape[0]\n",
    "    acc = 0\n",
    "    for i in range(num_test):\n",
    "        if val_y[i] == res[i]:\n",
    "            acc = acc+1\n",
    "    return acc/num_test,res"
   ]
  },
  {
   "cell_type": "code",
   "execution_count": null,
   "metadata": {},
   "outputs": [],
   "source": [
    "build_center(train_x)"
   ]
  },
  {
   "cell_type": "code",
   "execution_count": null,
   "metadata": {},
   "outputs": [],
   "source": [
    "data_vec,labels = cal_vec(train_x)"
   ]
  },
  {
   "cell_type": "code",
   "execution_count": null,
   "metadata": {},
   "outputs": [],
   "source": [
    "SVM_Train(data_vec,train_y)\n"
   ]
  },
  {
   "cell_type": "code",
   "execution_count": null,
   "metadata": {},
   "outputs": [],
   "source": [
    "print(train_x)\n",
    "print(train_y)"
   ]
  },
  {
   "cell_type": "code",
   "execution_count": null,
   "metadata": {},
   "outputs": [],
   "source": [
    "data_vec_val,labels_val = cal_vec(val_x)"
   ]
  },
  {
   "cell_type": "code",
   "execution_count": null,
   "metadata": {},
   "outputs": [],
   "source": [
    "acc,res = SVM_Test(data_vec_val,val_y)\n",
    "print(acc)\n",
    "print(res)"
   ]
  },
  {
   "cell_type": "code",
   "execution_count": null,
   "metadata": {},
   "outputs": [],
   "source": [
    "def predict(img):\n",
    "    clf = joblib.load(\"svm_model.m\")\n",
    "    centers = np.load(\"svm_centers.npy\")\n",
    "    features = calcSiftFeature(img)\n",
    "    featVec = calcFeatVec(features, centers)\n",
    "    case = np.float32(featVec)\n",
    "    res = clf.predict(case)\n",
    "    return res"
   ]
  },
  {
   "cell_type": "code",
   "execution_count": null,
   "metadata": {},
   "outputs": [],
   "source": [
    "test_x,test_y = load_img('test.txt')"
   ]
  },
  {
   "cell_type": "code",
   "execution_count": null,
   "metadata": {},
   "outputs": [],
   "source": [
    "res=[]\n",
    "for im in range(len(test_x)):\n",
    "    res.append(predict(test_x[im]))"
   ]
  },
  {
   "cell_type": "code",
   "execution_count": null,
   "metadata": {},
   "outputs": [],
   "source": [
    "data_vec_test,labels_test = cal_vec(test_x)\n",
    "\n",
    "testacc,testres = SVM_Test(data_vec_test,test_y)\n",
    "print(testacc)\n",
    "print(testres)"
   ]
  },
  {
   "cell_type": "code",
   "execution_count": null,
   "metadata": {},
   "outputs": [],
   "source": [
    "print (data_vec)"
   ]
  }
 ],
 "metadata": {
  "kernelspec": {
   "display_name": "Python 3",
   "language": "python",
   "name": "python3"
  },
  "language_info": {
   "codemirror_mode": {
    "name": "ipython",
    "version": 3
   },
   "file_extension": ".py",
   "mimetype": "text/x-python",
   "name": "python",
   "nbconvert_exporter": "python",
   "pygments_lexer": "ipython3",
   "version": "3.7.4"
  }
 },
 "nbformat": 4,
 "nbformat_minor": 2
}
